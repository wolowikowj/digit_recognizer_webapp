{
 "cells": [
  {
   "cell_type": "code",
   "execution_count": 2,
   "metadata": {},
   "outputs": [],
   "source": [
    "import numpy as np\n",
    "from PIL import Image"
   ]
  },
  {
   "cell_type": "code",
   "execution_count": 5,
   "metadata": {},
   "outputs": [],
   "source": [
    "def preprocess_img_test(img_path, new_width, new_height):\n",
    "    img = Image.open(img_path).convert('L')\n",
    "    new_img = img.resize(size = (new_width, new_height), resample=Image.Resampling.LANCZOS)\n",
    "    img_array =np.array(new_img)\n",
    "\n",
    "    return new_img"
   ]
  },
  {
   "cell_type": "code",
   "execution_count": 7,
   "metadata": {},
   "outputs": [
    {
     "data": {
      "image/jpeg": "[encoded data removed]",
      "image/png": "[encoded data removed]",
      "text/plain": [
       "<PIL.Image.Image image mode=L size=28x28>"
      ]
     },
     "execution_count": 7,
     "metadata": {},
     "output_type": "execute_result"
    }
   ],
   "source": [
    "img_test = preprocess_img_test(img_path=r'C:\\Users\\jwolowikow\\Pictures\\Saved Pictures\\digit recognizer test images\\test_resize_4.png',\n",
    "                          new_width=28, new_height=28)\n",
    "img_test"
   ]
  },
  {
   "cell_type": "code",
   "execution_count": 13,
   "metadata": {},
   "outputs": [
    {
     "data": {
      "text/plain": [
       "(1, 2, 1, 2)"
      ]
     },
     "execution_count": 13,
     "metadata": {},
     "output_type": "execute_result"
    }
   ],
   "source": [
    "arr = np.ndarray(shape=(1,2,1,2), dtype=int)\n",
    "\n",
    "arr.shape"
   ]
  },
  {
   "cell_type": "code",
   "execution_count": 16,
   "metadata": {},
   "outputs": [],
   "source": [
    "import tensorflow as tf\n",
    "import matplotlib.pyplot as plt\n",
    "\n",
    "mnist = tf.keras.datasets.mnist\n",
    "\n",
    "(_, _), (x_test, _) = mnist.load_data()\n",
    "\n",
    "image= x_test[0]\n",
    "\n",
    "# Plot and save the image\n",
    "plt.imshow(image, cmap='gray')\n",
    "plt.axis('off')  # Turn off axis labels\n",
    "plt.savefig('mnist_image.png', bbox_inches='tight', pad_inches=0)  # Save the image\n",
    "plt.close()  # Close the plot\n"
   ]
  },
  {
   "cell_type": "code",
   "execution_count": 17,
   "metadata": {},
   "outputs": [
    {
     "name": "stdout",
     "output_type": "stream",
     "text": [
      "WARNING:tensorflow:From c:\\Users\\jwolowikow\\Documents\\Entwicklung\\Eigene Projekte\\digit_recognizer_webapp\\.venv\\lib\\site-packages\\keras\\src\\backend.py:1398: The name tf.executing_eagerly_outside_functions is deprecated. Please use tf.compat.v1.executing_eagerly_outside_functions instead.\n",
      "\n",
      "WARNING:tensorflow:From c:\\Users\\jwolowikow\\Documents\\Entwicklung\\Eigene Projekte\\digit_recognizer_webapp\\.venv\\lib\\site-packages\\keras\\src\\layers\\normalization\\batch_normalization.py:979: The name tf.nn.fused_batch_norm is deprecated. Please use tf.compat.v1.nn.fused_batch_norm instead.\n",
      "\n",
      "Model: \"sequential_6\"\n",
      "_________________________________________________________________\n",
      " Layer (type)                Output Shape              Param #   \n",
      "=================================================================\n",
      " reshape_6 (Reshape)         (None, 28, 28, 1)         0         \n",
      "                                                                 \n",
      " random_contrast_6 (RandomC  (None, 28, 28, 1)         0         \n",
      " ontrast)                                                        \n",
      "                                                                 \n",
      " random_width_3 (RandomWidt  (None, 28, None, 1)       0         \n",
      " h)                                                              \n",
      "                                                                 \n",
      " random_height_2 (RandomHei  (None, None, None, 1)     0         \n",
      " ght)                                                            \n",
      "                                                                 \n",
      " batch_normalization_22 (Ba  (None, None, None, 1)     4         \n",
      " tchNormalization)                                               \n",
      "                                                                 \n",
      " conv2d_20 (Conv2D)          (None, None, None, 64)    1088      \n",
      "                                                                 \n",
      " max_pooling2d_16 (MaxPooli  (None, None, None, 64)    0         \n",
      " ng2D)                                                           \n",
      "                                                                 \n",
      " batch_normalization_23 (Ba  (None, None, None, 64)    256       \n",
      " tchNormalization)                                               \n",
      "                                                                 \n",
      " conv2d_21 (Conv2D)          (None, None, None, 128)   131200    \n",
      "                                                                 \n",
      " max_pooling2d_17 (MaxPooli  (None, None, None, 128)   0         \n",
      " ng2D)                                                           \n",
      "                                                                 \n",
      " batch_normalization_24 (Ba  (None, None, None, 128)   512       \n",
      " tchNormalization)                                               \n",
      "                                                                 \n",
      " conv2d_22 (Conv2D)          (None, None, None, 256)   295168    \n",
      "                                                                 \n",
      " conv2d_23 (Conv2D)          (None, None, None, 256)   590080    \n",
      "                                                                 \n",
      " max_pooling2d_18 (MaxPooli  (None, None, None, 256)   0         \n",
      " ng2D)                                                           \n",
      "                                                                 \n",
      " global_average_pooling2d (  (None, 256)               0         \n",
      " GlobalAveragePooling2D)                                         \n",
      "                                                                 \n",
      " batch_normalization_25 (Ba  (None, 256)               1024      \n",
      " tchNormalization)                                               \n",
      "                                                                 \n",
      " flatten_6 (Flatten)         (None, 256)               0         \n",
      "                                                                 \n",
      " dense_12 (Dense)            (None, 128)               32896     \n",
      "                                                                 \n",
      " dense_13 (Dense)            (None, 10)                1290      \n",
      "                                                                 \n",
      "=================================================================\n",
      "Total params: 1053518 (4.02 MB)\n",
      "Trainable params: 1052620 (4.02 MB)\n",
      "Non-trainable params: 898 (3.51 KB)\n",
      "_________________________________________________________________\n"
     ]
    }
   ],
   "source": [
    "from keras.models import load_model\n",
    "\n",
    "model = load_model('digit_recognizer_v4.keras')\n",
    "\n",
    "model.summary()"
   ]
  },
  {
   "cell_type": "code",
   "execution_count": 22,
   "metadata": {},
   "outputs": [
    {
     "data": {
      "text/plain": [
       "[array([0.972678], dtype=float32),\n",
       " array([0.18203789], dtype=float32),\n",
       " array([33.558434], dtype=float32),\n",
       " array([5286.572], dtype=float32)]"
      ]
     },
     "execution_count": 22,
     "metadata": {},
     "output_type": "execute_result"
    }
   ],
   "source": [
    "model.layers[4].get_weights()"
   ]
  }
 ],
 "metadata": {
  "kernelspec": {
   "display_name": ".venv",
   "language": "python",
   "name": "python3"
  },
  "language_info": {
   "codemirror_mode": {
    "name": "ipython",
    "version": 3
   },
   "file_extension": ".py",
   "mimetype": "text/x-python",
   "name": "python",
   "nbconvert_exporter": "python",
   "pygments_lexer": "ipython3",
   "version": "3.10.11"
  }
 },
 "nbformat": 4,
 "nbformat_minor": 2
}
